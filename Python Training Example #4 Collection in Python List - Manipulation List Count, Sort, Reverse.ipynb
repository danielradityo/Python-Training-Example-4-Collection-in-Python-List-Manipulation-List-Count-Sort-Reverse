{
 "cells": [
  {
   "cell_type": "markdown",
   "metadata": {},
   "source": [
    "# Python Training Example #4 Collection in Python List - Manipulation List Count, Sort, Reverse"
   ]
  },
  {
   "cell_type": "code",
   "execution_count": 1,
   "metadata": {},
   "outputs": [],
   "source": [
    "# Create a List\n",
    "land_vehicle = ['Car', 'Motorcycle', 'Bycycle', 'Bus', 'Truck', 'Train']\n",
    "water_vehicle = ['Boat', 'Ferry', 'Ship', 'Submarine', 'Yacht', 'Sail boat']\n",
    "people_use = ['Car', 'Car', 'Motorcycle', 'Bycycle', 'Bycycle', 'Motocyle', 'Car', 'Motorcycle', 'Bycycle', 'Car', 'Motorcycle', 'Car', 'Motorcycle', 'Bycycle']"
   ]
  },
  {
   "cell_type": "markdown",
   "metadata": {},
   "source": [
    "## .count()"
   ]
  },
  {
   "cell_type": "code",
   "execution_count": 18,
   "metadata": {},
   "outputs": [
    {
     "name": "stdout",
     "output_type": "stream",
     "text": [
      "How many people use Car? 5\n",
      "How many people use Car? 4\n",
      "How many people use Car? 4\n"
     ]
    }
   ],
   "source": [
    "# count list\n",
    "print('How many people use Car?', people_use.count('Car'))\n",
    "print('How many people use Car?', people_use.count('Motorcycle'))\n",
    "print('How many people use Car?', people_use.count('Bycycle'))"
   ]
  },
  {
   "cell_type": "markdown",
   "metadata": {},
   "source": [
    "## .sort()"
   ]
  },
  {
   "cell_type": "code",
   "execution_count": 2,
   "metadata": {},
   "outputs": [
    {
     "name": "stdout",
     "output_type": "stream",
     "text": [
      "['Bus', 'Bycycle', 'Car', 'Motorcycle', 'Train', 'Truck']\n"
     ]
    }
   ],
   "source": [
    "# Sorting list default\n",
    "land_vehicle.sort()\n",
    "print(land_vehicle)"
   ]
  },
  {
   "cell_type": "code",
   "execution_count": 3,
   "metadata": {},
   "outputs": [
    {
     "name": "stdout",
     "output_type": "stream",
     "text": [
      "['Truck', 'Train', 'Motorcycle', 'Car', 'Bycycle', 'Bus']\n"
     ]
    }
   ],
   "source": [
    "# Sorting use Reserve True\n",
    "land_vehicle.sort(reverse=True)\n",
    "print(land_vehicle)"
   ]
  },
  {
   "cell_type": "markdown",
   "metadata": {},
   "source": [
    "## .reverse()"
   ]
  },
  {
   "cell_type": "code",
   "execution_count": 4,
   "metadata": {},
   "outputs": [
    {
     "name": "stdout",
     "output_type": "stream",
     "text": [
      "['Train', 'Truck', 'Bus', 'Bycycle', 'Motorcycle', 'Car']\n"
     ]
    }
   ],
   "source": [
    "# Reverse list will reverse the order\n",
    "land_vehicle = ['Car', 'Motorcycle', 'Bycycle', 'Bus', 'Truck', 'Train']\n",
    "land_vehicle.reverse()\n",
    "print(land_vehicle)"
   ]
  }
 ],
 "metadata": {
  "kernelspec": {
   "display_name": "Python 3",
   "language": "python",
   "name": "python3"
  },
  "language_info": {
   "codemirror_mode": {
    "name": "ipython",
    "version": 3
   },
   "file_extension": ".py",
   "mimetype": "text/x-python",
   "name": "python",
   "nbconvert_exporter": "python",
   "pygments_lexer": "ipython3",
   "version": "3.8.5"
  }
 },
 "nbformat": 4,
 "nbformat_minor": 4
}
